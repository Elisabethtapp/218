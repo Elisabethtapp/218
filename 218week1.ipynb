{
 "cells": [
  {
   "cell_type": "markdown",
   "metadata": {},
   "source": [
    "Physics 218"
   ]
  },
  {
   "cell_type": "markdown",
   "metadata": {},
   "source": [
    "Elisabeth Tappert"
   ]
  },
  {
   "cell_type": "code",
   "execution_count": 4,
   "metadata": {
    "collapsed": true
   },
   "outputs": [],
   "source": [
    "import numpy as np\n",
    "\n",
    "def coeff_linear_exp(ti, tf, L, DL):\n",
    "    alpha = DL/(L * (tf-ti))\n",
    "    return alpha\n",
    "\n",
    "def rule_three(dA, dB):\n",
    "    dQ = np.sqrt(dA**2 + dB**2)\n",
    "    return dQ\n",
    "\n",
    "def rule_four(dA, dB, dC, A, B, C, Q, m, n, o): #where m and n are the exponents of A and B\n",
    "    dQ = np.abs(Q) * np.sqrt((m*dA/A)**2 + (n*dB/B)**2 + (o*dC/C)**2)\n",
    "    return dQ"
   ]
  },
  {
   "cell_type": "code",
   "execution_count": 8,
   "metadata": {
    "collapsed": false
   },
   "outputs": [
    {
     "name": "stdout",
     "output_type": "stream",
     "text": [
      "The coefficient of linear expansion is 1.72283095583e-05 and the uncertainty is 1.5962962826e-07\n"
     ]
    }
   ],
   "source": [
    "L = 1.05\n",
    "dL = 0.001\n",
    "DL = 0.00125\n",
    "dDL = 0.00001\n",
    "ti = 23.4 #C\n",
    "tf = 92.5 #C\n",
    "dti = 0.3\n",
    "dtf = 0.1\n",
    "\n",
    "Q = coeff_linear_exp(ti, tf, L, DL)\n",
    "\n",
    "def uncertainty(L, dL, DL, dDL, ti, tf, dti, dtf):  #for this specific equation\n",
    "    dT = rule_three(dti, dtf)\n",
    "    dQ = rule_four(dL, dDL, dT, L, DL, tf-ti, Q,  1, -1, -1)\n",
    "    return dQ\n",
    "dQ = uncertainty(L, dL, DL, dDL, ti, tf, dti, dtf)\n",
    "print \"The coefficient of linear expansion is \" + str(Q) + ' and the uncertainty is ' + str(dQ) + ' per Degree Celsius'"
   ]
  },
  {
   "cell_type": "code",
   "execution_count": null,
   "metadata": {
    "collapsed": true
   },
   "outputs": [],
   "source": []
  }
 ],
 "metadata": {
  "kernelspec": {
   "display_name": "Python 2",
   "language": "python",
   "name": "python2"
  },
  "language_info": {
   "codemirror_mode": {
    "name": "ipython",
    "version": 2
   },
   "file_extension": ".py",
   "mimetype": "text/x-python",
   "name": "python",
   "nbconvert_exporter": "python",
   "pygments_lexer": "ipython2",
   "version": "2.7.10"
  }
 },
 "nbformat": 4,
 "nbformat_minor": 0
}
